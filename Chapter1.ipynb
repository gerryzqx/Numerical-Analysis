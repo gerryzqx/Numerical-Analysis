{
 "cells": [
  {
   "cell_type": "code",
   "execution_count": 53,
   "metadata": {},
   "outputs": [
    {
     "name": "stdout",
     "output_type": "stream",
     "text": [
      "Iterations \t c\n",
      "0 \t \t \t 0.0\n",
      "1 \t \t \t 0.5\n",
      "2 \t \t \t 0.75\n",
      "3 \t \t \t 0.625\n",
      "4 \t \t \t 0.6875\n",
      "5 \t \t \t 0.65625\n",
      "6 \t \t \t 0.671875\n",
      "7 \t \t \t 0.6796875\n",
      "8 \t \t \t 0.68359375\n",
      "9 \t \t \t 0.681640625\n",
      "10 \t \t \t 0.6826171875\n",
      "11 \t \t \t 0.68212890625\n",
      "12 \t \t \t 0.682373046875\n",
      "13 \t \t \t 0.6822509765625\n",
      "14 \t \t \t 0.68231201171875\n",
      "The value of root is :  0.6823\n"
     ]
    }
   ],
   "source": [
    "# 1.1 Bisection Method\n",
    "\n",
    "def func(x):\n",
    "    return x**3 + x - 1\n",
    "\n",
    "\n",
    "def bisection(a,b):\n",
    "\n",
    "    if (func(a) * func(b) >= 0):\n",
    "        print(\"You have not assumed right a and b\\n\")\n",
    "        return\n",
    "    \n",
    "    count = 0\n",
    "    print(\"Iterations \\t c\")\n",
    "    # while ((b-a) > 0.01):\n",
    "    for i in range(15):\n",
    "        \n",
    "        # Find middle point\n",
    "        c = (a+b)/2\n",
    "        \n",
    "        # Check if middle point is root\n",
    "        if (func(c) == 0):\n",
    "            return c\n",
    "\n",
    "        # Decide the side to repeat the steps\n",
    "        if (func(c)*func(a) < 0):\n",
    "            b = c\n",
    "        else:\n",
    "            a = c\n",
    "            \n",
    "        print(i, \"\\t \\t \\t\" , c)\n",
    "    print(\"The value of root is : \",\"%.4f\"%c)\n",
    "    \n",
    "\n",
    "a = -1\n",
    "b = 1\n",
    "bisection(a, b)\n"
   ]
  },
  {
   "cell_type": "code",
   "execution_count": null,
   "metadata": {
    "collapsed": true
   },
   "outputs": [],
   "source": []
  }
 ],
 "metadata": {
  "kernelspec": {
   "display_name": "Python 3",
   "language": "python",
   "name": "python3"
  },
  "language_info": {
   "codemirror_mode": {
    "name": "ipython",
    "version": 3
   },
   "file_extension": ".py",
   "mimetype": "text/x-python",
   "name": "python",
   "nbconvert_exporter": "python",
   "pygments_lexer": "ipython3",
   "version": "3.6.5"
  }
 },
 "nbformat": 4,
 "nbformat_minor": 2
}
