{
 "cells": [
  {
   "cell_type": "code",
   "execution_count": 18,
   "metadata": {},
   "outputs": [
    {
     "data": {
      "image/png": "[encoded data removed]",
      "text/plain": [
       "<matplotlib.figure.Figure at 0x110411748>"
      ]
     },
     "metadata": {},
     "output_type": "display_data"
    },
    {
     "name": "stdout",
     "output_type": "stream",
     "text": [
      "Iteration\t \t a\t\t \t b\t\t \t c\n",
      "0\t\t -2.000000\t -1.000000\t -1.500000\n",
      "1\t\t -1.500000\t -1.000000\t -1.250000\n",
      "2\t\t -1.250000\t -1.000000\t -1.125000\n",
      "3\t\t -1.125000\t -1.000000\t -1.062500\n",
      "4\t\t -1.062500\t -1.000000\t -1.031250\n",
      "5\t\t -1.031250\t -1.000000\t -1.015625\n",
      "6\t\t -1.031250\t -1.015625\t -1.023438\n",
      "7\t\t -1.031250\t -1.023438\t -1.027344\n",
      "8\t\t -1.027344\t -1.023438\t -1.025391\n",
      "9\t\t -1.025391\t -1.023438\t -1.024414\n",
      "10\t\t -1.024414\t -1.023438\t -1.023926\n",
      "11\t\t -1.023926\t -1.023438\t -1.023682\n",
      "12\t\t -1.023682\t -1.023438\t -1.023560\n",
      "13\t\t -1.023560\t -1.023438\t -1.023499\n",
      "14\t\t -1.023499\t -1.023438\t -1.023468\n",
      "15\t\t -1.023499\t -1.023468\t -1.023483\n",
      "16\t\t -1.023483\t -1.023468\t -1.023476\n",
      "The root after 16th iteration is: -1.023476 \n"
     ]
    }
   ],
   "source": [
    "# 1.1 Bisection Method\n",
    "import matplotlib.pyplot as plt\n",
    "import numpy as np\n",
    "\n",
    "def func(x):\n",
    "    return np.exp(x-2) +x**3-x\n",
    "\n",
    "def bisection(a,b,tolerance):\n",
    "    if (func(a) * func(b) >= 0):\n",
    "        print(\"You have not assumed right a and b\\n\")\n",
    "        return\n",
    "    \n",
    "    count = 0\n",
    "    print (\"Iteration\\t \\t a\\t\\t \\t b\\t\\t \\t c\")\n",
    "    while ((b-a) >= tolerance):\n",
    "    #for i in range(15):\n",
    "        \n",
    "        # Find middle point\n",
    "        c = (a+b)/2\n",
    "        print (\"%d\\t\\t %.6f\\t %.6f\\t %.6f\" %(count, a ,b ,c))\n",
    "        # Check if middle point is root\n",
    "        if (func(c) == 0):\n",
    "            break\n",
    "\n",
    "        # Decide the side to repeat the steps\n",
    "        if (func(c)*func(a) < 0):\n",
    "            b = c\n",
    "        else:\n",
    "            a = c\n",
    "        count += 1\n",
    "    print(\"The root after %dth iteration is: %.6f \" %(count-1, c))\n",
    "\n",
    "x = np.arange(-2,2,0.1)\n",
    "y = func(x)\n",
    "fig = plt.figure()\n",
    "ax = fig.add_subplot(1, 1, 1)\n",
    "ax.spines['left'].set_position(('data', 0.0))\n",
    "ax.spines['bottom'].set_position(('data', 0.0))\n",
    "ax.spines['right'].set_color('none')\n",
    "ax.spines['top'].set_color('none')\n",
    "\n",
    "# Show ticks in the left and lower axes only\n",
    "ax.xaxis.set_ticks_position('bottom')\n",
    "ax.yaxis.set_ticks_position('left')\n",
    "plt.plot(x, y)\n",
    "plt.show()\n",
    "\n",
    "a = -2\n",
    "b = -1\n",
    "tolerance = 0.00001\n",
    "bisection(a, b, tolerance)"
   ]
  },
  {
   "cell_type": "code",
   "execution_count": 52,
   "metadata": {},
   "outputs": [
    {
     "name": "stdout",
     "output_type": "stream",
     "text": [
      "\n",
      " i \t \t \t Xi \t \t \t g(Xi)\n",
      "0 \t \t 0.500000 \t 1.871802 \t \t \n",
      "1 \t \t 1.871802 \t 1.634754 \t \t \n",
      "2 \t \t 1.634754 \t 1.679942 \t \t \n",
      "3 \t \t 1.679942 \t 1.671484 \t \t \n",
      "4 \t \t 1.671484 \t 1.673073 \t \t \n",
      "5 \t \t 1.673073 \t 1.672775 \t \t \n",
      "6 \t \t 1.672775 \t 1.672831 \t \t \n",
      "7 \t \t 1.672831 \t 1.672820 \t \t \n",
      "8 \t \t 1.672820 \t 1.672822 \t \t \n",
      "9 \t \t 1.672822 \t 1.672822 \t \t \n",
      "The root after 9th iteration is: 1.672822\n"
     ]
    }
   ],
   "source": [
    "# 1.2 Fixed Point Iteration\n",
    "\n",
    "def func2(x):\n",
    "    # Question 1\n",
    "    #return (2*x+2)**(1/3)\n",
    "    #return np.log(7-x)\n",
    "    #return np.log(4-np.sin(x))\n",
    "    \n",
    "    # Question 3\n",
    "    #return 3**(1/2)\n",
    "    #return 5**(1/2)\n",
    "    \n",
    "    #Question 5\n",
    "    #return np.cos(x)**2\n",
    "    # derivative of cos^2x is -2cos(x)sin(x)\n",
    "    #return -2*np.cos(x)*np.sin(x) gives us a local convergence where S |g'(r)| < 1\n",
    "    \n",
    "    #Question 7\n",
    "    #return 1-5*x+(15)/(2)*x**2-(5)/(2)*x**3\n",
    "\n",
    "def fpi(x,iteration):\n",
    "    print(\"\\n i \\t \\t \\t Xi \\t \\t \\t g(Xi)\")\n",
    "    for i in range(iteration):\n",
    "        print (i, \"\\t \\t %.6f \\t\" %x, end= \" \")\n",
    "        x = func2(x)\n",
    "        print(\"%.6f \\t \\t \" %x)\n",
    "    root = x\n",
    "    print(\"The root after %dth iteration is: \" \"%.6f\" %(i,root))\n",
    "\n",
    "x = 0.5\n",
    "iteration = 10\n",
    "\n",
    "fpi(x, iteration)"
   ]
  },
  {
   "cell_type": "code",
   "execution_count": null,
   "metadata": {
    "collapsed": true
   },
   "outputs": [],
   "source": []
  }
 ],
 "metadata": {
  "kernelspec": {
   "display_name": "Python 3",
   "language": "python",
   "name": "python3"
  },
  "language_info": {
   "codemirror_mode": {
    "name": "ipython",
    "version": 3
   },
   "file_extension": ".py",
   "mimetype": "text/x-python",
   "name": "python",
   "nbconvert_exporter": "python",
   "pygments_lexer": "ipython3",
   "version": "3.6.5"
  }
 },
 "nbformat": 4,
 "nbformat_minor": 2
}
