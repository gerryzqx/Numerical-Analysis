{
 "cells": [
  {
   "cell_type": "code",
   "execution_count": 155,
   "metadata": {},
   "outputs": [
    {
     "data": {
      "image/png": "[encoded data removed]",
      "text/plain": [
       "<matplotlib.figure.Figure at 0x11a6d72e8>"
      ]
     },
     "metadata": {},
     "output_type": "display_data"
    },
    {
     "name": "stdout",
     "output_type": "stream",
     "text": [
      "Iteration\t \t a\t\t \t b\t\t \t c\n",
      "0\t\t -1.000000\t 0.000000\t -0.500000\n",
      "1\t\t -0.500000\t 0.000000\t -0.250000\n",
      "2\t\t -0.250000\t 0.000000\t -0.125000\n",
      "3\t\t -0.250000\t -0.125000\t -0.187500\n",
      "4\t\t -0.187500\t -0.125000\t -0.156250\n",
      "5\t\t -0.187500\t -0.156250\t -0.171875\n",
      "6\t\t -0.171875\t -0.156250\t -0.164062\n",
      "7\t\t -0.171875\t -0.164062\t -0.167969\n",
      "8\t\t -0.171875\t -0.167969\t -0.169922\n",
      "9\t\t -0.169922\t -0.167969\t -0.168945\n",
      "10\t\t -0.168945\t -0.167969\t -0.168457\n",
      "11\t\t -0.168457\t -0.167969\t -0.168213\n",
      "12\t\t -0.168457\t -0.168213\t -0.168335\n",
      "13\t\t -0.168335\t -0.168213\t -0.168274\n",
      "14\t\t -0.168274\t -0.168213\t -0.168243\n",
      "15\t\t -0.168274\t -0.168243\t -0.168259\n",
      "16\t\t -0.168259\t -0.168243\t -0.168251\n",
      "The root after 16th iteration is: -0.168251 \n"
     ]
    }
   ],
   "source": [
    "# 1.1 Bisection Method\n",
    "from mpmath import *\n",
    "from sympy import Symbol\n",
    "import matplotlib.pyplot as plt\n",
    "import numpy as np\n",
    "\n",
    "def bisection(a,b,tolerance):\n",
    "    if (func(a) * func(b) >= 0):\n",
    "        print(\"You have not assumed right a and b\\n\")\n",
    "        return\n",
    "    \n",
    "    count = 0\n",
    "    print (\"Iteration\\t \\t a\\t\\t \\t b\\t\\t \\t c\")\n",
    "    while ((b-a) >= tolerance):\n",
    "    #for i in range(15):\n",
    "        \n",
    "        # Find middle point\n",
    "        c = (a+b)/2\n",
    "        print (\"%d\\t\\t %.6f\\t %.6f\\t %.6f\" %(count, a ,b ,c))\n",
    "        # Check if middle point is root\n",
    "        if (func(c) == 0):\n",
    "            break\n",
    "\n",
    "        # Decide the side to repeat the steps\n",
    "        if (func(c)*func(a) < 0):\n",
    "            b = c\n",
    "        else:\n",
    "            a = c\n",
    "        count += 1\n",
    "    print(\"The root after %dth iteration is: %.6f \" %(count-1, c))\n",
    "    \n",
    "\n",
    "def func(x):\n",
    "    return math.exp(x)\n",
    "\n",
    "x = np.arange(-4,4,0.1)\n",
    "y = func(x)\n",
    "fig = plt.figure()\n",
    "ax = fig.add_subplot(1, 1, 1)\n",
    "ax.spines['left'].set_position(('data', 0.0))\n",
    "ax.spines['bottom'].set_position(('data', 0.0))\n",
    "ax.spines['right'].set_color('none')\n",
    "ax.spines['top'].set_color('none')\n",
    "\n",
    "# Show ticks in the left and lower axes only\n",
    "ax.xaxis.set_ticks_position('bottom')\n",
    "ax.yaxis.set_ticks_position('left')\n",
    "plt.plot(x, y)\n",
    "plt.show()\n",
    "\n",
    "a = -1\n",
    "b = 0\n",
    "tolerance = 0.00001\n",
    "bisection(a, b, tolerance)"
   ]
  },
  {
   "cell_type": "code",
   "execution_count": null,
   "metadata": {
    "collapsed": true
   },
   "outputs": [],
   "source": []
  }
 ],
 "metadata": {
  "kernelspec": {
   "display_name": "Python 3",
   "language": "python",
   "name": "python3"
  },
  "language_info": {
   "codemirror_mode": {
    "name": "ipython",
    "version": 3
   },
   "file_extension": ".py",
   "mimetype": "text/x-python",
   "name": "python",
   "nbconvert_exporter": "python",
   "pygments_lexer": "ipython3",
   "version": "3.6.5"
  }
 },
 "nbformat": 4,
 "nbformat_minor": 2
}
